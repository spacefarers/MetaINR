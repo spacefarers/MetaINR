{
 "cells": [
  {
   "cell_type": "code",
   "outputs": [
    {
     "name": "stdout",
     "output_type": "stream",
     "text": [
      "[neptune] [info   ] Neptune initialized. Open in the app: https://app.neptune.ai/VRNET/MetaINR/\n"
     ]
    },
    {
     "data": {
      "text/plain": "Fetching table...: 0 [00:00, ?/s]",
      "application/vnd.jupyter.widget-view+json": {
       "version_major": 2,
       "version_minor": 0,
       "model_id": "0609b1107c6344aeb8f36507b4e9bcdc"
      }
     },
     "metadata": {},
     "output_type": "display_data"
    },
    {
     "name": "stdout",
     "output_type": "stream",
     "text": [
      "MetaINR 5e-5, 1e-4 pretrian 8 step 1e-5 adapt\n",
      "VP Baseline 5e-5, 1e-4 pretrian 8 step 1e-5 adapt\n",
      "INR50 1e-5 lr\n"
     ]
    }
   ],
   "source": [
    "from neptune import Project\n",
    "import keys\n",
    "import pandas as pd\n",
    "import zentables as zen\n",
    "\n",
    "project = Project(project=\"VRNET/MetaINR\", api_token=keys.NEPTUNE_API_TOKEN, mode=\"read-only\")\n",
    "exps = project.fetch_runs_table(columns=[\"sys/creation_time\", \"sys/running_time\", \"sys/description\", \"average_PSNR\", \"dataset\", \"target\"]).to_pandas().sort_values(by=\"sys/creation_time\", ascending=False)\n",
    "\n",
    "notes = [\n",
    "    \"MetaINR 5e-5, 1e-4 pretrian 8 step 1e-5 adapt\",\n",
    "    \"VP Baseline 5e-5, 1e-4 pretrian 8 step 1e-5 adapt\",\n",
    "    \"INR50 1e-5 lr\"\n",
    "]\n",
    "\n",
    "datasets = [\n",
    "    \"vorts\",\n",
    "    \"half-cylinder\",\n",
    "    \"earthquake\",\n",
    "    \"combustion\",\n",
    "    \"fivejet\",\n",
    "    \"ionization\",\n",
    "    \"supernova\",\n",
    "    \"tangaroa\",\n",
    "]\n",
    "\n",
    "# create a table of dataset on columns and target on rows\n",
    "table = {}\n",
    "activated_context = None\n",
    "active_length = 0\n",
    "for index, row in exps.iterrows():\n",
    "    note = row[\"sys/description\"]\n",
    "    dataset = row[\"dataset\"]\n",
    "    if note in notes:\n",
    "        if note != activated_context:\n",
    "            print(note)\n",
    "            activated_context = note\n",
    "            active_length = 0\n",
    "        if activated_context.split(\" \")[0] not in table:\n",
    "            table[activated_context.split(\" \")[0]] = {}\n",
    "    if active_length < 8:\n",
    "        active_length += 1\n",
    "    else:\n",
    "        break\n",
    "    runtime_s = row[\"sys/running_time\"]\n",
    "    runtime_h = int(runtime_s // 3600)\n",
    "    runtime_m = int((runtime_s % 3600) // 60)\n",
    "    runtime_s = int(runtime_s % 60)\n",
    "    # if no hour, display min and sec, otherwise display hour and min\n",
    "    time_display = f\"{runtime_h}h {runtime_m}m\" if runtime_h > 0 else f\"{runtime_m}m {runtime_s}s\"\n",
    "    table[activated_context.split(\" \")[0]][dataset] = f\"{row['average_PSNR']:.2f} ({time_display})\"\n",
    "\n",
    "# export to xlsx\n",
    "df = pd.DataFrame(table)\n",
    "df.to_excel(\"table.xlsx\")"
   ],
   "metadata": {
    "collapsed": false,
    "ExecuteTime": {
     "end_time": "2024-10-19T01:50:25.896928200Z",
     "start_time": "2024-10-19T01:50:22.879026600Z"
    }
   },
   "id": "456ae2d2810d6f5d",
   "execution_count": 9
  },
  {
   "cell_type": "code",
   "outputs": [],
   "source": [],
   "metadata": {
    "collapsed": false
   },
   "id": "f1c41db6fffe2f72"
  }
 ],
 "metadata": {
  "kernelspec": {
   "display_name": "Python 3",
   "language": "python",
   "name": "python3"
  },
  "language_info": {
   "codemirror_mode": {
    "name": "ipython",
    "version": 2
   },
   "file_extension": ".py",
   "mimetype": "text/x-python",
   "name": "python",
   "nbconvert_exporter": "python",
   "pygments_lexer": "ipython2",
   "version": "2.7.6"
  }
 },
 "nbformat": 4,
 "nbformat_minor": 5
}
